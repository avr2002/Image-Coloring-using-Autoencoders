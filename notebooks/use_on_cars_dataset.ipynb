{
 "cells": [
  {
   "cell_type": "markdown",
   "id": "255f014f-dbe2-4bb8-8cbd-45cf25981bae",
   "metadata": {},
   "source": [
    "https://github.com/foamliu/Conv-Autoencoder/tree/master"
   ]
  },
  {
   "cell_type": "code",
   "execution_count": null,
   "id": "17189133-5403-4cee-8645-900ccefc3297",
   "metadata": {},
   "outputs": [],
   "source": []
  }
 ],
 "metadata": {
  "kernelspec": {
   "display_name": "Python 3 (ipykernel)",
   "language": "python",
   "name": "python3"
  },
  "language_info": {
   "codemirror_mode": {
    "name": "ipython",
    "version": 3
   },
   "file_extension": ".py",
   "mimetype": "text/x-python",
   "name": "python",
   "nbconvert_exporter": "python",
   "pygments_lexer": "ipython3",
   "version": "3.10.9"
  }
 },
 "nbformat": 4,
 "nbformat_minor": 5
}
